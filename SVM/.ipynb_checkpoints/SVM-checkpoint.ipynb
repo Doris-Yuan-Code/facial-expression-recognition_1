{
 "cells": [
  {
   "cell_type": "code",
   "execution_count": 4,
   "metadata": {},
   "outputs": [],
   "source": [
    "import numpy as np\n",
    "import pandas as pd\n",
    "from Process import combineSeqData, combineLBPSeqData\n",
    "from sklearn import model_selection\n",
    "from sklearn.naive_bayes import GaussianNB, BernoulliNB\n",
    "from sklearn.decomposition import PCA\n",
    "import cv2\n",
    "\n",
    "Data = pd.read_csv('pdData.csv')\n",
    "# # 生成'pdDataNF.csv'，该文件是将funny标签转为smiling\n",
    "# Data[\"Face\"].replace(\"funny\", \"smiling\", inplace=True)\n",
    "# print(list(set(Data['Face'])))\n",
    "# Data.to_csv('pdDataNF.csv', encoding='utf-8')\n",
    "DataNF = pd.read_csv('pdDataNF.csv')\n",
    "\n",
    "X0 = combineSeqData(Data)\n",
    "y0 = np.array(DataNF['Face'].values)\n",
    "\n",
    "\n",
    "# X1 27个特征\n",
    "pca = PCA(n_components=27, svd_solver='auto',\n",
    "          whiten=True).fit(X0)\n",
    "X1 = pca.transform(X0)\n",
    "\n",
    "# X2 LBP\n",
    "X2 = combineLBPSeqData(Data)\n",
    "\n",
    "# X3 LBP + PCA 27个特征\n",
    "\n",
    "pca = PCA(n_components=27, svd_solver='auto',\n",
    "          whiten=True).fit(X2)\n",
    "X3 = pca.transform(X2)\n",
    "\n",
    "num_folds = 10\n",
    "scoring = 'accuracy'"
   ]
  },
  {
   "cell_type": "code",
   "execution_count": 23,
   "metadata": {
    "scrolled": true
   },
   "outputs": [
    {
     "name": "stdout",
     "output_type": "stream",
     "text": [
      "The face label of the dataset contains: ['smiling', 'serious']\n",
      "PCA NB: 0.673621 (0.037048)\n",
      "Raw NB: 0.732057 (0.006832)\n",
      "LBP NB: 0.747169 (0.020851)\n"
     ]
    }
   ],
   "source": [
    "from sklearn.svm import SVC\n",
    "from sklearn.model_selection import cross_val_score\n",
    "Value_1=[]\n",
    "print(\"The face label of the dataset contains:\", list(set(DataNF['Face'])))\n",
    "for name, data in ( [\"PCA\", X1],[\"Raw\", X0], [\"LBP\", X2]):\n",
    "    clf = SVC(kernel='linear')\n",
    "    scores = cross_val_score(clf, data, y0,cv=3)\n",
    "    msg = \"%s NB: %f (%f)\" % (name, scores.mean(), scores.std())\n",
    "    Value_1.append(scores.mean())\n",
    "    print(msg)"
   ]
  },
  {
   "cell_type": "code",
   "execution_count": 25,
   "metadata": {},
   "outputs": [
    {
     "name": "stdout",
     "output_type": "stream",
     "text": [
      "The face label of the dataset contains: ['smiling', 'serious']\n",
      "PCA NB: 0.653736 (0.029913)\n",
      "Raw NB: 0.755226 (0.014571)\n",
      "LBP NB: 0.776379 (0.011510)\n"
     ]
    }
   ],
   "source": [
    "from sklearn.svm import SVC\n",
    "from sklearn.model_selection import cross_val_score\n",
    "Value_2=[]\n",
    "print(\"The face label of the dataset contains:\", list(set(DataNF['Face'])))\n",
    "for name, data in ([\"PCA\", X1],[\"Raw\", X0], [\"LBP\", X2]):\n",
    "    clf = SVC(kernel='rbf')\n",
    "    scores = cross_val_score(clf, data, y0,cv=3)\n",
    "    msg = \"%s NB: %f (%f)\" % (name, scores.mean(), scores.std())\n",
    "    Value_2.append(scores.mean())\n",
    "    print(msg)"
   ]
  },
  {
   "cell_type": "code",
   "execution_count": 27,
   "metadata": {},
   "outputs": [
    {
     "name": "stdout",
     "output_type": "stream",
     "text": [
      "The face label of the dataset contains: ['smiling', 'serious']\n",
      "PCA NB: 0.641399 (0.037666)\n",
      "Raw NB: 0.719717 (0.024277)\n",
      "LBP NB: 0.759258 (0.017229)\n"
     ]
    }
   ],
   "source": [
    "from sklearn.svm import SVC\n",
    "from sklearn.model_selection import cross_val_score\n",
    "Value_3=[]\n",
    "print(\"The face label of the dataset contains:\", list(set(DataNF['Face'])))\n",
    "for name, data in ([\"PCA\", X1],[\"Raw\", X0], [\"LBP\", X2]):\n",
    "    clf = SVC(kernel='poly')\n",
    "    scores = cross_val_score(clf, data, y0,cv=3)\n",
    "    msg = \"%s NB: %f (%f)\" % (name, scores.mean(), scores.std())\n",
    "    Value_3.append(scores.mean())\n",
    "    print(msg)"
   ]
  },
  {
   "cell_type": "code",
   "execution_count": 42,
   "metadata": {},
   "outputs": [
    {
     "name": "stdout",
     "output_type": "stream",
     "text": [
      "[0.6736206735127753, 0.7320571285468422, 0.7471685776246272]\n",
      "[0.653735635464883, 0.7552259238707232, 0.7763792884279145]\n",
      "[0.641399471280064, 0.7197167778379115, 0.759257736886855]\n",
      "[0.6736206735127753, 0.653735635464883, 0.641399471280064]\n"
     ]
    },
    {
     "data": {
      "image/png": "[encoded data removed]",
      "text/plain": [
       "<Figure size 720x504 with 1 Axes>"
      ]
     },
     "metadata": {
      "needs_background": "light"
     },
     "output_type": "display_data"
    }
   ],
   "source": [
    "import numpy as np\n",
    "import matplotlib as mpl\n",
    "\n",
    "import matplotlib.pyplot as plt\n",
    " \n",
    " \n",
    "X_label = [\"linear\", \"rbf\", \"poly\"]   \n",
    "\n",
    "# 创建分组柱状图，需要自己控制x轴坐标\n",
    "xticks = np.arange(len(X_label))\n",
    "#print(Value_1)\n",
    "#print(Value_2)\n",
    "#print(Value_3)\n",
    "\n",
    "aa=[Value_1[0],Value_2[0],Value_3[0]]\n",
    "bb=[Value_1[1],Value_2[1],Value_3[1]]\n",
    "cc=[Value_1[2],Value_2[2],Value_3[2]]\n",
    "#print(aa)\n",
    "fig, ax = plt.subplots(figsize=(10, 7))\n",
    "#A B C 中x的数量\n",
    "ax.bar(xticks, aa, width=0.15, label=\"1\")   # 5.width是柱子的宽度\n",
    " \n",
    "ax.bar(xticks + 0.22, bb, width=0.15, label=\"2\")   # 6.0.22 是调整两个柱之间的距离\n",
    " \n",
    "ax.bar(xticks + 0.44,cc, width=0.15, label=\"3\")\n",
    "\n",
    "plt.legend(['PCA NB','Raw NB','LBP NB'])           # 7.图例\n",
    "# 最后调整x轴标签的位置\n",
    "ax.set_xticks(xticks + 0.25)\n",
    "ax.set_xticklabels(X_label)\n",
    " \n",
    " \n",
    "plt.title(' different algorithms-Recognition accuracy')            # 8. 图标题\n",
    "plt.xlabel(\" different algorithms\")                  # 9. X轴名字\n",
    "plt.ylabel(\"Recognition accuracy\")                  # 10. Y轴名字\n",
    " \n",
    "plt.savefig(\"test.png\")\n",
    "\n"
   ]
  },
  {
   "cell_type": "code",
   "execution_count": null,
   "metadata": {},
   "outputs": [
    {
     "name": "stdout",
     "output_type": "stream",
     "text": [
      "Automatically created module for IPython interactive environment\n",
      "123\n",
      "# Tuning hyper-parameters for precision\n",
      "\n"
     ]
    }
   ],
   "source": [
    "# from sklearn import datasets\n",
    "from sklearn.model_selection import train_test_split\n",
    "from sklearn.model_selection import GridSearchCV\n",
    "from sklearn.metrics import classification_report\n",
    "from sklearn.svm import SVC\n",
    "from sklearn.preprocessing import StandardScaler\n",
    "\n",
    "print(__doc__)\n",
    "sc = StandardScaler()\n",
    "sc.fit(X2)\n",
    "X6 = sc.transform(X2)\n",
    "\n",
    "# Split the dataset in two equal parts\n",
    "X_train, X_test, y_train, y_test = train_test_split(\n",
    "    X6, y0, test_size=0.25, random_state=0)\n",
    "\n",
    "# Set the parameters by cross-validation\n",
    "tuned_parameters = [{'kernel': ['rbf'], 'C': np.logspace(-6, -3, 4), 'gamma': np.logspace(-6, -3, 4)}]\n",
    "                  #  {'kernel': ['linear'], 'C': np.logspace(-6, -3, 4)}]\n",
    "scores = ['precision']\n",
    "print(123)\n",
    "for score in scores:\n",
    "    print(\"# Tuning hyper-parameters for %s\" % score)\n",
    "    print()\n",
    "\n",
    "    clf2 = GridSearchCV(\n",
    "       # SVC(), tuned_parameters, scoring='%s_macro' % score,cv=3 )\n",
    "        SVC(), tuned_parameters, cv=3 )\n",
    "    clf2.fit(X_train, y_train)\n",
    "\n",
    "    print(\"Best parameters set found on development set:\")\n",
    "    print()\n",
    "    print(clf2.best_params_)\n",
    "    print()\n",
    "    print(\"Grid scores on development set:\")\n",
    "    print()\n",
    "    means = clf2.cv_results_['mean_test_score']\n",
    "    stds = clf2.cv_results_['std_test_score']\n",
    "    for mean, std, params in zip(means, stds, clf2.cv_results_['params']):\n",
    "        print(\"%0.3f (+/-%0.03f) for %r\"\n",
    "              % (mean, std * 2, params))\n",
    "    print()\n",
    "\n",
    "    print(\"Detailed classification report:\")\n",
    "    print()\n",
    "    print(\"The model is trained on the full development set.\")\n",
    "    print(\"The scores are computed on the full evaluation set.\")\n",
    "    print()\n",
    "    y_true, y_pred = y_test, clf2.predict(X_test)\n",
    "    print(classification_report(y_true, y_pred))\n",
    "    print()"
   ]
  },
  {
   "cell_type": "code",
   "execution_count": null,
   "metadata": {},
   "outputs": [],
   "source": []
  },
  {
   "cell_type": "code",
   "execution_count": null,
   "metadata": {},
   "outputs": [],
   "source": [
    "import numpy as np\n",
    "import pandas as pd\n",
    "from Process import combineSeqData, combineLBPSeqData\n",
    "from sklearn import model_selection\n",
    "from sklearn.naive_bayes import GaussianNB, BernoulliNB\n",
    "from sklearn.decomposition import PCA\n",
    "\n",
    "Data = pd.read_csv('pdData.csv')\n",
    "# # 生成'pdDataNF.csv'，该文件是将funny标签转为smiling\n",
    "# Data[\"Face\"].replace(\"funny\", \"smiling\", inplace=True)\n",
    "# print(list(set(Data['Face'])))\n",
    "# Data.to_csv('pdDataNF.csv', encoding='utf-8')\n",
    "DataNF = pd.read_csv('pdDataNF.csv')\n",
    "\n",
    "X0 = combineSeqData(Data)\n",
    "y0 = np.array(Data['Face'].values)\n",
    "\n",
    "\n",
    "# X1 27个特征\n",
    "pca = PCA(n_components=27, svd_solver='auto',\n",
    "          whiten=True).fit(X0)\n",
    "X1 = pca.transform(X0)\n",
    "\n",
    "# X2 LBP\n",
    "X2 = combineLBPSeqData(Data)\n",
    "\n",
    "# X3 LBP + PCA 27个特征\n",
    "\n",
    "pca = PCA(n_components=27, svd_solver='auto',\n",
    "          whiten=True).fit(X2)\n",
    "X3 = pca.transform(X2)\n",
    "\n",
    "num_folds = 10\n",
    "scoring = 'accuracy'"
   ]
  },
  {
   "cell_type": "code",
   "execution_count": 3,
   "metadata": {},
   "outputs": [
    {
     "name": "stdout",
     "output_type": "stream",
     "text": [
      "The face label of the dataset contains: ['funny', 'smiling', 'serious']\n",
      "PCA NB: 0.585484 (0.048512)\n",
      "Raw NB: 0.590023 (0.045873)\n",
      "LBP NB: 0.747673 (0.021310)\n"
     ]
    }
   ],
   "source": [
    "#进行SVM进行三分类\n",
    "from sklearn.svm import SVC\n",
    "from sklearn.model_selection import cross_val_score\n",
    "Data1 = pd.read_csv('pdData.csv')\n",
    "X0 = combineSeqData(Data1)\n",
    "y0 = np.array(Data['Face'].values)\n",
    "# X1 27个特征\n",
    "pca = PCA(n_components=27, svd_solver='auto',\n",
    "          whiten=True).fit(X0)\n",
    "X1 = pca.transform(X0)\n",
    "\n",
    "# X2 LBP\n",
    "X2 = combineLBPSeqData(Data)\n",
    "\n",
    "# X3 LBP + PCA 27个特征\n",
    "\n",
    "pca = PCA(n_components=27, svd_solver='auto',\n",
    "          whiten=True).fit(X2)\n",
    "X3 = pca.transform(X2)\n",
    "\n",
    "num_folds = 10\n",
    "scoring = 'accuracy'\n",
    "print(\"The face label of the dataset contains:\", list(set(Data['Face'])))\n",
    "for name, data in ( [\"PCA\", X1],[\"Raw\", X0], [\"LBP\", X2]):\n",
    "    clf = SVC(kernel='poly' ,class_weight='balanced')\n",
    "    scores = cross_val_score(clf, data, y0,cv=3)\n",
    "    msg = \"%s NB: %f (%f)\" % (name, scores.mean(), scores.std())\n",
    "    print(msg)"
   ]
  },
  {
   "cell_type": "code",
   "execution_count": null,
   "metadata": {},
   "outputs": [],
   "source": []
  }
 ],
 "metadata": {
  "kernelspec": {
   "display_name": "Python 3 (ipykernel)",
   "language": "python",
   "name": "python3"
  },
  "language_info": {
   "codemirror_mode": {
    "name": "ipython",
    "version": 3
   },
   "file_extension": ".py",
   "mimetype": "text/x-python",
   "name": "python",
   "nbconvert_exporter": "python",
   "pygments_lexer": "ipython3",
   "version": "3.9.7"
  }
 },
 "nbformat": 4,
 "nbformat_minor": 4
}
